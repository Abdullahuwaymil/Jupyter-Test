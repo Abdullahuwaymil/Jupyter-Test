{
 "cells": [
  {
   "cell_type": "markdown",
   "id": "35731e88",
   "metadata": {},
   "source": [
    "# Data Science Tools and Ecosystem\n"
   ]
  },
  {
   "cell_type": "markdown",
   "id": "31a216ae",
   "metadata": {},
   "source": [
    "## In this notebook, Data Science Tools and Ecosystem are summarized.\n",
    "* List popular Languages for Data Science\n",
    "* List Popular libraries for Data Science\n",
    "* Popular open source development environment tools used in data science\n",
    "* few examples of evaluating arithmetic expressions in Python\n"
   ]
  },
  {
   "cell_type": "markdown",
   "id": "c94c0f45",
   "metadata": {},
   "source": [
    " ## Some of the popular languages that Data Scientists use are:\n",
    "1. Python\n",
    "2. R\n",
    "3. Julia\n",
    "4. Java\n"
   ]
  },
  {
   "cell_type": "markdown",
   "id": "99997e11",
   "metadata": {},
   "source": [
    "## Some of the commonly used libraries used by Data Scientists include:\n",
    " 1. NumPy\n",
    " 2. Pandas\n",
    " 3. Matplotlib\n",
    " 4. TensorFlow\n",
    " "
   ]
  },
  {
   "cell_type": "markdown",
   "id": "942a79ca",
   "metadata": {},
   "source": [
    "| Data Science Tools |\n",
    "|--------------------|\n",
    "| Jupyter Notebook   |\n",
    "| Visual Studio Code |\n",
    "| RStudio            |\n",
    "| Anaconda           |\n"
   ]
  },
  {
   "cell_type": "markdown",
   "id": "8e4d89ff",
   "metadata": {},
   "source": [
    "### Below are a few examples of evaluating arithmetic expressions in Python.\n",
    " #### This a simple arithmetic expression to mutiply then add integers :"
   ]
  },
  {
   "cell_type": "code",
   "execution_count": 2,
   "id": "c7ccc37e",
   "metadata": {},
   "outputs": [
    {
     "data": {
      "text/plain": [
       "17"
      ]
     },
     "execution_count": 2,
     "metadata": {},
     "output_type": "execute_result"
    }
   ],
   "source": [
    "(3*4)+5"
   ]
  },
  {
   "cell_type": "markdown",
   "id": "7caf13c7",
   "metadata": {},
   "source": [
    " #### This is a simple arithmetic expression for dividing and then adding integers:\n"
   ]
  },
  {
   "cell_type": "code",
   "execution_count": 4,
   "id": "dacd85c4",
   "metadata": {},
   "outputs": [
    {
     "data": {
      "text/plain": [
       "20.0"
      ]
     },
     "execution_count": 4,
     "metadata": {},
     "output_type": "execute_result"
    }
   ],
   "source": [
    "(20/5)+16"
   ]
  },
  {
   "cell_type": "markdown",
   "id": "023269a0",
   "metadata": {},
   "source": [
    " #### This will convert 200 minutes to hours by diving by 60."
   ]
  },
  {
   "cell_type": "code",
   "execution_count": 6,
   "id": "aed0dd40",
   "metadata": {},
   "outputs": [
    {
     "data": {
      "text/plain": [
       "3.3333333333333335"
      ]
     },
     "execution_count": 6,
     "metadata": {},
     "output_type": "execute_result"
    }
   ],
   "source": [
    "200/60"
   ]
  },
  {
   "cell_type": "markdown",
   "id": "b30fc338",
   "metadata": {},
   "source": [
    "#### We round the result to the nearest whole hour, so the answer is approximately 3 hours and a third exactly, which is 3 hours and 20 minutes.\n"
   ]
  },
  {
   "cell_type": "markdown",
   "id": "18beb636",
   "metadata": {},
   "source": [
    "## Author\n",
    "Abdullah Huwaymil"
   ]
  }
 ],
 "metadata": {
  "kernelspec": {
   "display_name": "Python 3 (ipykernel)",
   "language": "python",
   "name": "python3"
  },
  "language_info": {
   "codemirror_mode": {
    "name": "ipython",
    "version": 3
   },
   "file_extension": ".py",
   "mimetype": "text/x-python",
   "name": "python",
   "nbconvert_exporter": "python",
   "pygments_lexer": "ipython3",
   "version": "3.11.7"
  }
 },
 "nbformat": 4,
 "nbformat_minor": 5
}
